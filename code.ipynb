{
 "cells": [
  {
   "cell_type": "code",
   "execution_count": null,
   "metadata": {},
   "outputs": [],
   "source": [
    "import pandas as pd\n",
    "from prophet.plot import plot_plotly, plot_components_plotly\n",
    "from prophet import Prophet\n",
    "df = pd.read_csv('/app/data/USD2INR.csv')\n",
    "df.head()\n",
    "df.columns = ['ds','y']\n",
    "df['ds'] = pd.to_datetime(df['ds'])\n",
    "df.tail()\n",
    "df.plot(x='ds',y='y',figsize=(18,6))\n",
    "len(df)\n",
    "train = df.iloc[:len(df)-365]\n",
    "m = Prophet()\n",
    "m.fit(train)\n",
    "future = m.make_future_dataframe(periods=100) #MS for monthly, H for hourly\n",
    "forecast = m.predict(future)\n",
    "forecast.tail(365)\n",
    "forecast[['ds', 'yhat', 'yhat_lower', 'yhat_upper']].tail()\n",
    "plot_plotly(m ,forecast)"
   ]
  }
 ],
 "metadata": {
  "language_info": {
   "name": "python"
  }
 },
 "nbformat": 4,
 "nbformat_minor": 2
}
